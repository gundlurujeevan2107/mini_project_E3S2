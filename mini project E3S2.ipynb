{
 "cells": [
  {
   "cell_type": "code",
   "execution_count": null,
   "id": "4bff39dd-8603-459c-a8d3-35330549a1fd",
   "metadata": {},
   "outputs": [],
   "source": [
    "#this program finds which note the audio is at"
   ]
  },
  {
   "cell_type": "code",
   "execution_count": 28,
   "id": "cfdc2f41-9beb-4641-b3d8-f36c594c973e",
   "metadata": {},
   "outputs": [],
   "source": [
    "#numpy library for arithmetic operations\n",
    "#librosa for audio data interfacing\n",
    "#NOTE_NAMES are MIDI value converted names which are used for musical notation\n",
    "#MIDI IS Musical Instrument Digital Interface\n"
   ]
  },
  {
   "cell_type": "code",
   "execution_count": 8,
   "id": "6ff743b3-0fe1-4ac6-a78c-30ec625da8c0",
   "metadata": {},
   "outputs": [],
   "source": [
    "import librosa\n",
    "import numpy as np\n",
    "\n",
    "NOTE_NAMES = ['C', 'C#', 'D', 'D#', 'E', 'F', 'F#', 'G', 'G#', 'A', 'A#', 'B']\n"
   ]
  },
  {
   "cell_type": "code",
   "execution_count": 27,
   "id": "cf586500-c5f5-43d1-a64c-e2568f3367a7",
   "metadata": {},
   "outputs": [],
   "source": [
    "#the following formula converts frequency to midi value and it is rounded to get the exact\n",
    "#midi value 21 - a0(27hz) to 60 - c8(4128hz,) 440 is the standard pitch referece ie A4 note"
   ]
  },
  {
   "cell_type": "code",
   "execution_count": 22,
   "id": "9771ea88-66fa-4418-8b0b-28ca8d0e8d98",
   "metadata": {},
   "outputs": [],
   "source": [
    "def note_name(frequency):\n",
    "    # Convert frequency to the nearest MIDI number\n",
    "    midi_value = 69 + 12*np.log2(frequency/440)\n",
    "    note_number = round(midi_value)\n",
    "    return NOTE_NAMES[note_number % 12]\n"
   ]
  },
  {
   "cell_type": "code",
   "execution_count": null,
   "id": "2812fa36-e214-4928-aa79-8c5a658d7e0c",
   "metadata": {},
   "outputs": [],
   "source": [
    "#y is array of amplitudes of sample audio\n",
    "#sr is the sampling rate generlly at 44100 hz\n",
    "#f0 is the array of fundamental frequency the othe 2 blanks are observation probability adn if the audionis present or not\n",
    "#librosa.pyin gives the fundamental frequency\n",
    "# if audio is present, it averages the fo0 array to get a single frequency"
   ]
  },
  {
   "cell_type": "code",
   "execution_count": 23,
   "id": "54833f81-ffd6-4787-ac8e-98ab6c7e639b",
   "metadata": {},
   "outputs": [
    {
     "name": "stdout",
     "output_type": "stream",
     "text": [
      "49\n",
      "Frequency: 142.54 Hz\n",
      "Note: C#\n"
     ]
    }
   ],
   "source": [
    "\n",
    "# Load the audio file\n",
    "file_path = 'sample1.wav'\n",
    "y, sr = librosa.load(file_path)\n",
    "\n",
    "# Extract the fundamental frequency using librosa\n",
    "f0, _, _ = librosa.pyin(y, fmin=librosa.note_to_hz('A0'), fmax=librosa.note_to_hz('C8'))\n",
    "\n",
    "# Get the most common frequency\n",
    "if f0 is not None:\n",
    "    frequency = np.nanmean(f0)\n",
    "    note = note_name(frequency)\n",
    "    print(f\"Frequency: {frequency:.2f} Hz\")\n",
    "    print(f\"Note: {note}\")\n",
    "else:\n",
    "    print(\"Could not detect a stable pitch in the audio file.\")"
   ]
  }
 ],
 "metadata": {
  "kernelspec": {
   "display_name": "Python 3 (ipykernel)",
   "language": "python",
   "name": "python3"
  },
  "language_info": {
   "codemirror_mode": {
    "name": "ipython",
    "version": 3
   },
   "file_extension": ".py",
   "mimetype": "text/x-python",
   "name": "python",
   "nbconvert_exporter": "python",
   "pygments_lexer": "ipython3",
   "version": "3.11.9"
  }
 },
 "nbformat": 4,
 "nbformat_minor": 5
}
